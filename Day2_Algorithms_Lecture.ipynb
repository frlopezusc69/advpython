{
 "cells": [
  {
   "cell_type": "markdown",
   "metadata": {},
   "source": [
    "# Classic Algorithms"
   ]
  },
  {
   "cell_type": "markdown",
   "metadata": {},
   "source": [
    "## Tasks Today:\n",
    " \n",
    "1) <b>In-Place Algorithms</b> <br>\n",
    " &nbsp;&nbsp;&nbsp;&nbsp; a) Syntax <br>\n",
    " &nbsp;&nbsp;&nbsp;&nbsp; a) Out of Place Algorithm <br>\n",
    " &nbsp;&nbsp;&nbsp;&nbsp; b) In-Class Exercise #1 <br>\n",
    "2) <b>Two Pointers</b> <br>\n",
    "3) <b>Sorting Algorithms</b> <br>\n",
    "4) <b>Merge Sort</b> <br>\n",
    " &nbsp;&nbsp;&nbsp;&nbsp; a) Video on Algorithms <br>\n",
    " &nbsp;&nbsp;&nbsp;&nbsp; b) How it Works <br>\n",
    "5) <b>Exercises</b> <br>\n",
    " &nbsp;&nbsp;&nbsp;&nbsp; a) Exercise #1 - Reverse a List in Place Using an In-Place Algorithm <br>\n",
    " &nbsp;&nbsp;&nbsp;&nbsp; b) Exercise #2 - Find Distinct Words <br>\n",
    " &nbsp;&nbsp;&nbsp;&nbsp; c) Exercise #3 - Write a program to implement a Linear Search Algorithm. <br>"
   ]
  },
  {
   "cell_type": "markdown",
   "metadata": {},
   "source": [
    "## In-Place Algorithms"
   ]
  },
  {
   "cell_type": "markdown",
   "metadata": {},
   "source": [
    "#### Syntax"
   ]
  },
  {
   "cell_type": "code",
   "execution_count": 1,
   "metadata": {},
   "outputs": [
    {
     "name": "stdout",
     "output_type": "stream",
     "text": [
      "1\n"
     ]
    }
   ],
   "source": [
    "c, a, b = 1, 2, 3\n",
    "\n",
    "print(c)"
   ]
  },
  {
   "cell_type": "code",
   "execution_count": 2,
   "metadata": {},
   "outputs": [
    {
     "data": {
      "text/plain": [
       "[10, 5, 10]"
      ]
     },
     "execution_count": 2,
     "metadata": {},
     "output_type": "execute_result"
    }
   ],
   "source": [
    "#var[i], var[j] = var [j], var[i]\n",
    "# Sometimes known as a swap algorithm\n",
    "\n",
    "def swap(alist, x, y, z):\n",
    "    alist[x] = alist[z]\n",
    "    return alist\n",
    "\n",
    "my_list = [1, 5, 10]\n",
    "swap(my_list, 0, 1, 2)"
   ]
  },
  {
   "cell_type": "code",
   "execution_count": 3,
   "metadata": {},
   "outputs": [
    {
     "name": "stdout",
     "output_type": "stream",
     "text": [
      "[10, 5, 10]\n"
     ]
    }
   ],
   "source": [
    "my_list = [1, 5, 10]\n",
    "my_list[0] = my_list[2]\n",
    "my_list[2] = my_list[0]\n",
    "print(my_list)"
   ]
  },
  {
   "cell_type": "markdown",
   "metadata": {},
   "source": [
    "#### Out of Place Algorithm"
   ]
  },
  {
   "cell_type": "code",
   "execution_count": 5,
   "metadata": {},
   "outputs": [
    {
     "name": "stdout",
     "output_type": "stream",
     "text": [
      "[10, 5, 10]\n",
      "[10, 5, 100]\n",
      "Before swap: ['a', 'b', 'c', 'd']\n",
      "After swap: ['d', 'c', 'b', 'a']\n"
     ]
    }
   ],
   "source": [
    "# Not swapping, but rather reversing completely\n",
    "# But also copies to another place in memory\n",
    "\n",
    "my_list_copy = my_list[::-1]\n",
    "my_list_copy[2] = 100\n",
    "print(my_list)\n",
    "print(my_list_copy)\n",
    "\n",
    "#Long form out of place...\n",
    "list_a = [\"a\", 'b', 'c', 'd']\n",
    "new_list = [''] * len(list_a)\n",
    "\n",
    "print(f'Before swap: {list_a}')\n",
    "\n",
    "length = len(list_a) - 1\n",
    "\n",
    "for i in range(len(list_a)):\n",
    "    new_list[i] = list_a[length-i]\n",
    "    \n",
    "list_a = new_list\n",
    "print(f'After swap: {list_a}')"
   ]
  },
  {
   "cell_type": "markdown",
   "metadata": {},
   "source": [
    "#### In-Class Exercise #1 <br>\n",
    "<p>Write a function that takes in four arguments (list, index1, index2, index3), and swaps those three positions in the list passed in.</p>"
   ]
  },
  {
   "cell_type": "code",
   "execution_count": 8,
   "metadata": {},
   "outputs": [
    {
     "data": {
      "text/plain": [
       "[3, 4, 10, 8, 4, 2, 6]"
      ]
     },
     "execution_count": 8,
     "metadata": {},
     "output_type": "execute_result"
    }
   ],
   "source": [
    "l_1 = [10, 4, 3, 8, 4, 2, 6]\n",
    "\n",
    "def swap(list, index1, index2, index3):\n",
    "    list[index1], list[index2], list[index3] = list[index3], list[index2], list[index1]\n",
    "    return list\n",
    "\n",
    "swap(l_1, 0, 1, 2)"
   ]
  },
  {
   "cell_type": "markdown",
   "metadata": {},
   "source": [
    "## Two Pointers"
   ]
  },
  {
   "cell_type": "markdown",
   "metadata": {},
   "source": [
    "#### Syntax"
   ]
  },
  {
   "cell_type": "code",
   "execution_count": 10,
   "metadata": {},
   "outputs": [
    {
     "name": "stdout",
     "output_type": "stream",
     "text": [
      "Before swap: [1, 4, 8, 3, 9, 10, 33, 23, 74]\n",
      "[74, 4, 8, 3, 9, 10, 33, 23, 1]\n",
      "[74, 23, 8, 3, 9, 10, 33, 4, 1]\n",
      "[74, 23, 33, 3, 9, 10, 8, 4, 1]\n",
      "[74, 23, 33, 10, 9, 3, 8, 4, 1]\n",
      "[74, 23, 33, 10, 9, 3, 8, 4, 1]\n",
      "After swap: [74, 23, 33, 10, 9, 3, 8, 4, 1]\n"
     ]
    }
   ],
   "source": [
    "# alist[left], alist[right] = alist[right], alist[left]\n",
    "# use two pointer to swap, can use a while loop in most cases\n",
    "\n",
    "def two_pointer_swap(alist):\n",
    "    # Create pointers based on alist\n",
    "    left = 0 #far left index\n",
    "    right = len(alist) - 1 #far right index\n",
    "    while left <= right:\n",
    "        alist[left], alist[right] = alist[right], alist[left]\n",
    "        print(alist)\n",
    "        left += 1\n",
    "        right -= 1\n",
    "    return alist\n",
    "\n",
    "my_test_list = [1, 4, 8, 3, 9, 10, 33, 23, 74]\n",
    "print(f'Before swap: {my_test_list}')\n",
    "two_pointer_swap(my_test_list)\n",
    "print(f'After swap: {my_test_list}')"
   ]
  },
  {
   "cell_type": "markdown",
   "metadata": {},
   "source": [
    "#### Video of Algorithms <br>\n",
    "<p>Watch the video about algorithms.</p>\n",
    "\n",
    "https://www.youtube.com/watch?v=Q9HjeFD62Uk\n",
    "\n",
    "https://www.youtube.com/watch?v=kPRA0W1kECg\n",
    "\n",
    "https://www.youtube.com/watch?v=ZZuD6iUe3Pc"
   ]
  },
  {
   "cell_type": "markdown",
   "metadata": {},
   "source": [
    "# Sorting Algorithms"
   ]
  },
  {
   "cell_type": "markdown",
   "metadata": {},
   "source": [
    "#### Bubble Sort\n",
    "\n",
    "Worst Case: O(n^2) Time - O(1) Space"
   ]
  },
  {
   "cell_type": "code",
   "execution_count": 14,
   "metadata": {},
   "outputs": [
    {
     "data": {
      "text/plain": [
       "[1, 2, 3, 4, 5]"
      ]
     },
     "execution_count": 14,
     "metadata": {},
     "output_type": "execute_result"
    }
   ],
   "source": [
    "#best case: O(n) - linear\n",
    "\n",
    "def swap(alist, a, b):\n",
    "    alist[a], alist[b] = alist[b], alist[a]\n",
    "    \n",
    "def bubble_sort(alist):\n",
    "    #assume ths list is unsorted\n",
    "    is_sorted = False \n",
    "    # while the list is unsorted, continue loop\n",
    "    while not is_sorted:\n",
    "        # set is_sorted variable to True while we check if sorted\n",
    "        is_sorted = True\n",
    "        \n",
    "        #loop through our list by the index\n",
    "        for idx in range(len(alist)-1):\n",
    "            # If element at idx is larger than element directly to the right\n",
    "            if alist[idx] > alist[idx+1]:\n",
    "                #Swap elements\n",
    "                swap(alist, idx, idx+1)\n",
    "                # set is_sorted to false so while loop will need to rerun\n",
    "                is_sorted = False\n",
    "    return alist\n",
    "\n",
    "bubble_sort([1, 3, 2, 5, 4])"
   ]
  },
  {
   "cell_type": "code",
   "execution_count": null,
   "metadata": {},
   "outputs": [],
   "source": []
  },
  {
   "cell_type": "markdown",
   "metadata": {},
   "source": [
    "##### Insertion Sort\n",
    "\n",
    "Worst Case: O(n^2) time - O(1)space"
   ]
  },
  {
   "cell_type": "code",
   "execution_count": 15,
   "metadata": {},
   "outputs": [
    {
     "data": {
      "text/plain": [
       "[11, 22, 33, 77, 88, 99]"
      ]
     },
     "execution_count": 15,
     "metadata": {},
     "output_type": "execute_result"
    }
   ],
   "source": [
    "def insertion_sort(alist):\n",
    "    for i in range(1, len(alist)):\n",
    "        j = i\n",
    "        while j > 0 and alist[j] < alist[j-1]:\n",
    "            alist[j], alist[j-1] = alist[j-1], alist[j]\n",
    "            j-=1\n",
    "    return alist\n",
    "\n",
    "insertion_sort([77, 22, 33, 88, 99, 11])"
   ]
  },
  {
   "cell_type": "markdown",
   "metadata": {},
   "source": [
    "## Merge Sort"
   ]
  },
  {
   "cell_type": "markdown",
   "metadata": {},
   "source": [
    "#### How it Works"
   ]
  },
  {
   "cell_type": "code",
   "execution_count": 21,
   "metadata": {},
   "outputs": [
    {
     "name": "stdout",
     "output_type": "stream",
     "text": [
      "Splitting... [1, 2, 3, 4, 5, 6]\n",
      "Splitting... [1, 2, 3]\n",
      "Splitting... [1]\n",
      "Merging... [1]\n",
      "Splitting... [2, 3]\n",
      "Splitting... [2]\n",
      "Merging... [2]\n",
      "Splitting... [3]\n",
      "Merging... [3]\n",
      "Merging... [2, 3]\n",
      "Merging... [1, 2, 3]\n",
      "Splitting... [4, 5, 6]\n",
      "Splitting... [4]\n",
      "Merging... [4]\n",
      "Splitting... [5, 6]\n",
      "Splitting... [5]\n",
      "Merging... [5]\n",
      "Splitting... [6]\n",
      "Merging... [6]\n",
      "Merging... [5, 6]\n",
      "Merging... [4, 5, 6]\n",
      "Merging... [1, 2, 3, 4, 5, 6]\n"
     ]
    },
    {
     "data": {
      "text/plain": [
       "[1, 2, 3, 4, 5, 6]"
      ]
     },
     "execution_count": 21,
     "metadata": {},
     "output_type": "execute_result"
    }
   ],
   "source": [
    "# Step 1: Split everything into it's own group (left and right - down to len==1)\n",
    "# Step 2: From left to right, merge two groups together\n",
    "# Step 3: While merging, place each item in the correct position in merged group (compare low index of left v right)\n",
    "# Step 4: Continue step 3-4 until one group is left\n",
    "\n",
    "\n",
    "# write merge sort function\n",
    "def merge_sort(alist):\n",
    "    print(\"Splitting...\", alist)\n",
    "    # Step 1: dived array into equal parts as much as possible, that is\n",
    "    if len(alist) > 1:\n",
    "        mid = len(alist) // 2\n",
    "        lefthalf = alist[:mid]\n",
    "        righthalf = alist[mid:]\n",
    "        \n",
    "        # recursively call merge_sort to perform splits if needed\n",
    "        merge_sort(lefthalf)\n",
    "        merge_sort(righthalf)\n",
    "        # then merge once splits are done\n",
    "        \n",
    "        #index pointers for our list\n",
    "        a = 0 # pointer for left half\n",
    "        b = 0 # pointer for right half\n",
    "        k = 0 #pointer for main array\n",
    "        \n",
    "        #Step 2a: Compare the left half and right half \n",
    "        while a < len(lefthalf) and b < len(righthalf):\n",
    "            if lefthalf[a] < righthalf[b]:\n",
    "                alist[k] = lefthalf[a]\n",
    "                a += 1\n",
    "            else:\n",
    "                alist[k] = righthalf[b]\n",
    "                b += 1\n",
    "        \n",
    "    print('Merging...', alist)\n",
    "    return alist\n",
    "\n",
    "merge_sort([1,2,3,4,5,6])"
   ]
  },
  {
   "cell_type": "markdown",
   "metadata": {},
   "source": [
    "# Binary Search\n",
    "\n",
    "The Binary Search algorithm works by finding the number in the middle of a given array and comparing it to the target. Given that the array is sorted\n",
    "\n",
    "* The worst case run time for this algorithm is `O(log(n))`"
   ]
  },
  {
   "cell_type": "code",
   "execution_count": 24,
   "metadata": {},
   "outputs": [
    {
     "data": {
      "text/plain": [
       "'The index for 88 is: 6'"
      ]
     },
     "execution_count": 24,
     "metadata": {},
     "output_type": "execute_result"
    }
   ],
   "source": [
    "def binary_search(alist, target):\n",
    "    low = 0\n",
    "    high = len(alist) - 1\n",
    "    while low <= high:\n",
    "        mid = (low + high) // 2\n",
    "        potential_match = alist[mid]\n",
    "        if target == potential_match:\n",
    "            return f'The index for {target} is: {mid}'\n",
    "        elif target < potential_match:\n",
    "            high = mid - 1\n",
    "        else: \n",
    "            low = mid + 1\n",
    "    return -1\n",
    "\n",
    "binary_search([22,33,44,55,66,77,88,99], 88)\n",
    "    "
   ]
  },
  {
   "cell_type": "markdown",
   "metadata": {},
   "source": [
    "# Exercises"
   ]
  },
  {
   "cell_type": "markdown",
   "metadata": {},
   "source": [
    "### Exercise #1 <br>\n",
    "<p>Reverse the list below in-place using an in-place algorithm.<br>For extra credit: Reverse the strings at the same time.</p>"
   ]
  },
  {
   "cell_type": "code",
   "execution_count": 11,
   "metadata": {},
   "outputs": [
    {
     "name": "stdout",
     "output_type": "stream",
     "text": [
      "['.', 'sentence', 'a', 'is', 'this']\n",
      "['this', 'is', 'a', 'sentence', '.']\n"
     ]
    }
   ],
   "source": [
    "words = ['this' , 'is', 'a', 'sentence', '.']\n",
    "\n",
    "print(words[::-1])\n",
    "\n",
    "print(words)"
   ]
  },
  {
   "cell_type": "markdown",
   "metadata": {},
   "source": [
    "### Exercise #2 <br>\n",
    "<p>Create a function that counts how many distinct words are in the string below, then outputs a dictionary with the words as the key and the value as the amount of times that word appears in the string.<br>Should output:<br>{'a': 5,<br>\n",
    " 'abstract': 1,<br>\n",
    " 'an': 3,<br>\n",
    " 'array': 2, ... etc...</p>"
   ]
  },
  {
   "cell_type": "code",
   "execution_count": 25,
   "metadata": {},
   "outputs": [
    {
     "name": "stdout",
     "output_type": "stream",
     "text": [
      "{'in': 1, 'computing,': 1, 'a': 5, 'hash': 4, 'table': 2, 'map': 2, 'is': 1, 'data': 2, 'structure': 2, 'which': 2, 'implements': 1, 'an': 3, 'associative': 1, 'array': 2, 'abstract': 1, 'type,': 1, 'that': 1, 'can': 2, 'keys': 1, 'to': 2, 'values.': 1, 'uses': 1, 'function': 1, 'compute': 1, 'index': 1, 'into': 1, 'of': 1, 'buckets': 1, 'or': 1, 'slots': 1, 'from': 1, 'the': 1, 'desired': 1, 'value': 1, 'be': 1, 'found': 1}\n"
     ]
    },
    {
     "data": {
      "text/plain": [
       "{'in': 1,\n",
       " 'computing,': 1,\n",
       " 'a': 5,\n",
       " 'hash': 4,\n",
       " 'table': 2,\n",
       " 'map': 2,\n",
       " 'is': 1,\n",
       " 'data': 2,\n",
       " 'structure': 2,\n",
       " 'which': 2,\n",
       " 'implements': 1,\n",
       " 'an': 3,\n",
       " 'associative': 1,\n",
       " 'array': 2,\n",
       " 'abstract': 1,\n",
       " 'type,': 1,\n",
       " 'that': 1,\n",
       " 'can': 2,\n",
       " 'keys': 1,\n",
       " 'to': 2,\n",
       " 'values.': 1,\n",
       " 'uses': 1,\n",
       " 'function': 1,\n",
       " 'compute': 1,\n",
       " 'index': 1,\n",
       " 'into': 1,\n",
       " 'of': 1,\n",
       " 'buckets': 1,\n",
       " 'or': 1,\n",
       " 'slots': 1,\n",
       " 'from': 1,\n",
       " 'the': 1,\n",
       " 'desired': 1,\n",
       " 'value': 1,\n",
       " 'be': 1,\n",
       " 'found': 1}"
      ]
     },
     "execution_count": 25,
     "metadata": {},
     "output_type": "execute_result"
    }
   ],
   "source": [
    "a_text = 'In computing, a hash table hash map is a data structure which implements an associative array abstract data type, a structure that can map keys to values. A hash table uses a hash function to compute an index into an array of buckets or slots from which the desired value can be found'\n",
    "\n",
    "def word_count(string):\n",
    "    words = string.lower().split()\n",
    "    dictionary = {}\n",
    "    for word in words:\n",
    "        dictionary[word] = 0\n",
    "    for word in words:\n",
    "        dictionary[word] += 1\n",
    "    print(dictionary)\n",
    "    return dictionary\n",
    "\n",
    "word_count(a_text)"
   ]
  },
  {
   "cell_type": "markdown",
   "metadata": {},
   "source": [
    "## Exercise #3\n",
    "\n",
    "Write a program to implement a Linear Search Algorithm. Also in a comment, write the Time Complexity of the following algorithm.\n",
    "\n",
    "#### Hint: Linear Searching will require searching a list for a given number. "
   ]
  },
  {
   "cell_type": "code",
   "execution_count": 28,
   "metadata": {},
   "outputs": [
    {
     "name": "stdout",
     "output_type": "stream",
     "text": [
      "element found at index 4\n"
     ]
    }
   ],
   "source": [
    "def linsearch(arr, x):\n",
    "    for i in range(len(arr)):\n",
    "        if arr[i] == x:\n",
    "            return i\n",
    "    return -1\n",
    "arr = ['L','i','n','e','a','r']\n",
    "x = 'a'\n",
    "print(\"element found at index \" +str(linsearch(arr,x)))\n",
    "\n",
    "# The Time Complexity of the above algorithm is O(n)."
   ]
  }
 ],
 "metadata": {
  "kernelspec": {
   "display_name": "Python 3",
   "language": "python",
   "name": "python3"
  },
  "language_info": {
   "codemirror_mode": {
    "name": "ipython",
    "version": 3
   },
   "file_extension": ".py",
   "mimetype": "text/x-python",
   "name": "python",
   "nbconvert_exporter": "python",
   "pygments_lexer": "ipython3",
   "version": "3.8.5"
  }
 },
 "nbformat": 4,
 "nbformat_minor": 2
}
